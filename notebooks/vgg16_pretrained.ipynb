{
 "cells": [
  {
   "cell_type": "code",
   "execution_count": 1,
   "metadata": {},
   "outputs": [],
   "source": [
    "# header files\n",
    "import numpy as np\n",
    "import torch\n",
    "import torch.nn as nn\n",
    "import torchvision"
   ]
  },
  {
   "cell_type": "code",
   "execution_count": null,
   "metadata": {},
   "outputs": [],
   "source": [
    "from google.colab import drive\n",
    "drive.mount('/content/drive')"
   ]
  },
  {
   "cell_type": "code",
   "execution_count": null,
   "metadata": {},
   "outputs": [],
   "source": [
    "np.random.seed(1234)\n",
    "torch.manual_seed(1234)\n",
    "torch.cuda.manual_seed(1234)"
   ]
  },
  {
   "cell_type": "code",
   "execution_count": null,
   "metadata": {},
   "outputs": [],
   "source": [
    "# define transforms\n",
    "train_transforms = torchvision.transforms.Compose([torchvision.transforms.RandomRotation(30),\n",
    "                                       torchvision.transforms.Resize((32, 32)),\n",
    "                                       torchvision.transforms.RandomHorizontalFlip(),\n",
    "                                       torchvision.transforms.ToTensor(),\n",
    "                                       torchvision.transforms.Normalize([0.485, 0.456, 0.406], [0.229, 0.224, 0.225])])"
   ]
  },
  {
   "cell_type": "code",
   "execution_count": null,
   "metadata": {},
   "outputs": [],
   "source": [
    "# dataset\n",
    "train_dataset = torchvision.datasets.CIFAR10(root=\"/content/drive/My Drive/CIFAR10_train\", train=True, transform=train_transforms, download=True)\n",
    "val_dataset = torchvision.datasets.CIFAR10(\"/content/drive/My Drive/CIFAR10_val\", train=False, transform=train_transforms, download=True)"
   ]
  },
  {
   "cell_type": "code",
   "execution_count": null,
   "metadata": {},
   "outputs": [],
   "source": [
    "# dataloader\n",
    "train_loader = torch.utils.data.DataLoader(train_dataset, batch_size=64, shuffle=True, num_workers=16)\n",
    "val_loader = torch.utils.data.DataLoader(val_dataset, batch_size=64, shuffle=False, num_workers=16)"
   ]
  },
  {
   "cell_type": "code",
   "execution_count": null,
   "metadata": {},
   "outputs": [],
   "source": [
    "# load model\n",
    "device = torch.device(\"cuda\" if torch.cuda.is_available() else \"cpu\")\n",
    "model = torchvision.models.vgg16_bn(pretrained=True)\n",
    "model.avgpool = torch.nn.AvgPool2d((1, 1))\n",
    "model.classifier = torch.nn.Sequential(\n",
    "    torch.nn.Linear(512, 512),\n",
    "    torch.nn.ReLU(inplace=True),\n",
    "    torch.nn.Dropout(),\n",
    "    torch.nn.Linear(512, 512),\n",
    "    torch.nn.ReLU(inplace=True),\n",
    "    torch.nn.Dropout(),\n",
    "    torch.nn.Linear(512, 10)\n",
    ")\n",
    "model.to(device)\n",
    "print(model)"
   ]
  },
  {
   "cell_type": "code",
   "execution_count": null,
   "metadata": {},
   "outputs": [],
   "source": [
    "# loss\n",
    "criterion = torch.nn.CrossEntropyLoss()"
   ]
  },
  {
   "cell_type": "code",
   "execution_count": null,
   "metadata": {},
   "outputs": [],
   "source": [
    "# optimizer\n",
    "optimizer = torch.optim.SGD(model.parameters(), lr=1e-3, momentum=0.9, weight_decay=5e-4)"
   ]
  },
  {
   "cell_type": "code",
   "execution_count": null,
   "metadata": {},
   "outputs": [],
   "source": [
    "train_losses = []\n",
    "train_acc = []\n",
    "val_losses = []\n",
    "val_acc = []\n",
    "best_metric = -1\n",
    "best_metric_epoch = -1\n",
    "\n",
    "# train and validate\n",
    "for epoch in range(0, 100):\n",
    "    \n",
    "    # train\n",
    "    model.train()\n",
    "    training_loss = 0.0\n",
    "    total = 0\n",
    "    correct = 0\n",
    "    for i, (input, target) in enumerate(train_loader):\n",
    "        \n",
    "        input = input.to(device)\n",
    "        target = target.to(device)\n",
    "\n",
    "        optimizer.zero_grad()\n",
    "        output = model(input)\n",
    "        loss = criterion(output, target)\n",
    "        \n",
    "        loss.backward()\n",
    "        optimizer.step()\n",
    "        \n",
    "        training_loss = training_loss + loss.item()\n",
    "        _, predicted = output.max(1)\n",
    "        total += target.size(0)\n",
    "        correct += predicted.eq(target).sum().item()\n",
    "        \n",
    "    training_loss = training_loss / float(len(train_loader))\n",
    "    training_accuracy = str(100.0 * (float(correct) / float(total)))\n",
    "    train_losses.append(training_loss)\n",
    "    train_acc.append(training_accuracy)\n",
    "    \n",
    "    # validate\n",
    "    model.eval()\n",
    "    valid_loss = 0.0\n",
    "    total = 0\n",
    "    correct = 0\n",
    "    for i, (input, target) in enumerate(val_loader):\n",
    "        \n",
    "        with torch.no_grad():\n",
    "            input = input.to(device)\n",
    "            target = target.to(device)\n",
    "\n",
    "            output = model(input)\n",
    "            loss = criterion(output, target)\n",
    "            _, predicted = output.max(1)\n",
    "            total += target.size(0)\n",
    "            correct += predicted.eq(target).sum().item()\n",
    "            \n",
    "        valid_loss = valid_loss + loss.item()\n",
    "    valid_loss = valid_loss / float(len(val_loader))\n",
    "    valid_accuracy = str(100.0 * (float(correct) / float(total)))\n",
    "    val_losses.append(valid_loss)\n",
    "    val_acc.append(valid_accuracy)\n",
    "\n",
    "\n",
    "    # store best model\n",
    "    if(float(valid_accuracy) > best_metric and epoch >= 10):\n",
    "      best_metric = float(valid_accuracy)\n",
    "      best_metric_epoch = epoch\n",
    "      torch.save(model.state_dict(), \"/content/drive/My Drive/model_vgg16_cifar10.pth\")\n",
    "    \n",
    "    print()\n",
    "    print(\"Epoch\" + str(epoch) + \":\")\n",
    "    print(\"Training Accuracy: \" + str(training_accuracy) + \"    Validation Accuracy: \" + str(valid_accuracy))\n",
    "    print(\"Training Loss: \" + str(training_loss) + \"    Validation Loss: \" + str(valid_loss))\n",
    "    print()"
   ]
  },
  {
   "cell_type": "code",
   "execution_count": null,
   "metadata": {},
   "outputs": [],
   "source": [
    "import matplotlib.pyplot as plt\n",
    "\n",
    "e = []\n",
    "for index in range(0, 100):\n",
    "    e.append(index)"
   ]
  },
  {
   "cell_type": "code",
   "execution_count": null,
   "metadata": {},
   "outputs": [],
   "source": [
    "plt.plot(e, train_losses)\n",
    "plt.show()"
   ]
  },
  {
   "cell_type": "code",
   "execution_count": null,
   "metadata": {},
   "outputs": [],
   "source": [
    "plt.plot(e, val_losses)\n",
    "plt.show()"
   ]
  }
 ],
 "metadata": {
  "kernelspec": {
   "display_name": "Python 3",
   "language": "python",
   "name": "python3"
  },
  "language_info": {
   "codemirror_mode": {
    "name": "ipython",
    "version": 3
   },
   "file_extension": ".py",
   "mimetype": "text/x-python",
   "name": "python",
   "nbconvert_exporter": "python",
   "pygments_lexer": "ipython3",
   "version": "3.7.6"
  }
 },
 "nbformat": 4,
 "nbformat_minor": 2
}
